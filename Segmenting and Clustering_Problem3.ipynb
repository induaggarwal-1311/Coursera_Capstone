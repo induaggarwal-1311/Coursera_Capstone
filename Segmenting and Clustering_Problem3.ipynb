{
    "cells": [
        {
            "metadata": {
                "collapsed": true
            },
            "cell_type": "markdown",
            "source": "# Applied Data Science Capstone Project: Segmenting and Clustering Neighborhoods in Toronto-Problem 3"
        },
        {
            "metadata": {},
            "cell_type": "code",
            "source": "# Import necessary libraries\n\nimport requests\nimport lxml.html as lh\nimport pandas as pd",
            "execution_count": 3,
            "outputs": []
        },
        {
            "metadata": {},
            "cell_type": "code",
            "source": "url='https://en.wikipedia.org/wiki/List_of_postal_codes_of_Canada:_M'\n\n#Create a handle, page, to handle the contents of the website\npage = requests.get(url)\n\n#Store the contents of the website under doc\ndoc = lh.fromstring(page.content)\n\n#Parse data that are stored between <tr>..</tr> of HTML\ntr_elements = doc.xpath('//tr')",
            "execution_count": 4,
            "outputs": []
        },
        {
            "metadata": {},
            "cell_type": "code",
            "source": "#Check the length of the first 12 rows\n[len(T) for T in tr_elements[:12]]",
            "execution_count": 5,
            "outputs": [
                {
                    "output_type": "execute_result",
                    "execution_count": 5,
                    "data": {
                        "text/plain": "[3, 3, 3, 3, 3, 3, 3, 3, 3, 3, 3, 3]"
                    },
                    "metadata": {}
                }
            ]
        },
        {
            "metadata": {},
            "cell_type": "markdown",
            "source": "This means that there are 3 columns per row"
        },
        {
            "metadata": {},
            "cell_type": "code",
            "source": "# Parse the first row as our header\ntr_elements = doc.xpath('//tr')\n\n#Create empty list\ncol=[]\ni=0\n\n#For each row, store each first element (header) and an empty list\nfor t in tr_elements[0]:\n    i+=1\n    name=t.text_content()\n    print ('%d:\"%s\"'%(i,name))\n    col.append((name,[]))",
            "execution_count": 6,
            "outputs": [
                {
                    "output_type": "stream",
                    "text": "1:\"Postcode\"\n2:\"Borough\"\n3:\"Neighborhood\n\"\n",
                    "name": "stdout"
                }
            ]
        },
        {
            "metadata": {},
            "cell_type": "markdown",
            "source": "**Creating Pandas DataFrame** <br>\nEach header is appended to a tuple along with an empty list."
        },
        {
            "metadata": {},
            "cell_type": "code",
            "source": "#Since out first row is the header, data is stored on the second row onwards\nfor j in range(1,len(tr_elements)):\n    #T is our j'th row\n    T=tr_elements[j]\n    \n    #If row is not of size 3, the //tr data is not from our table \n    if len(T)!=3:\n        break\n    \n    #i is the index of our column\n    i=0\n    \n    #Iterate through each element of the row\n    for t in T.iterchildren():\n        data=t.text_content() \n        #Check if row is empty\n        if i>0:\n        #Convert any numerical value to integers\n            try:\n                data=int(data)\n            except:\n                pass\n        #Append the data to the empty list of the i'th column\n        col[i][1].append(data)\n        #Increment i for the next column\n        i+=1",
            "execution_count": 7,
            "outputs": []
        },
        {
            "metadata": {},
            "cell_type": "code",
            "source": "# Check the length of each column. Ideally, they should all be the same\n[len(C) for (title,C) in col]",
            "execution_count": 8,
            "outputs": [
                {
                    "output_type": "execute_result",
                    "execution_count": 8,
                    "data": {
                        "text/plain": "[287, 287, 287]"
                    },
                    "metadata": {}
                }
            ]
        },
        {
            "metadata": {},
            "cell_type": "markdown",
            "source": "This shows that each of the 3 columns has exactly 287 rows\n\n**Creating the pandas data frame**"
        },
        {
            "metadata": {},
            "cell_type": "code",
            "source": "Dict={title:column for (title,column) in col}\ndf=pd.DataFrame(Dict)",
            "execution_count": 9,
            "outputs": []
        },
        {
            "metadata": {},
            "cell_type": "code",
            "source": "# Access the top 5 rows of the data frame \ndf.head()",
            "execution_count": 10,
            "outputs": [
                {
                    "output_type": "execute_result",
                    "execution_count": 10,
                    "data": {
                        "text/plain": "  Postcode           Borough      Neighborhood\\n\n0      M1A      Not assigned      Not assigned\\n\n1      M2A      Not assigned      Not assigned\\n\n2      M3A        North York         Parkwoods\\n\n3      M4A        North York  Victoria Village\\n\n4      M5A  Downtown Toronto      Harbourfront\\n",
                        "text/html": "<div>\n<style scoped>\n    .dataframe tbody tr th:only-of-type {\n        vertical-align: middle;\n    }\n\n    .dataframe tbody tr th {\n        vertical-align: top;\n    }\n\n    .dataframe thead th {\n        text-align: right;\n    }\n</style>\n<table border=\"1\" class=\"dataframe\">\n  <thead>\n    <tr style=\"text-align: right;\">\n      <th></th>\n      <th>Postcode</th>\n      <th>Borough</th>\n      <th>Neighborhood</th>\n    </tr>\n  </thead>\n  <tbody>\n    <tr>\n      <th>0</th>\n      <td>M1A</td>\n      <td>Not assigned</td>\n      <td>Not assigned\\n</td>\n    </tr>\n    <tr>\n      <th>1</th>\n      <td>M2A</td>\n      <td>Not assigned</td>\n      <td>Not assigned\\n</td>\n    </tr>\n    <tr>\n      <th>2</th>\n      <td>M3A</td>\n      <td>North York</td>\n      <td>Parkwoods\\n</td>\n    </tr>\n    <tr>\n      <th>3</th>\n      <td>M4A</td>\n      <td>North York</td>\n      <td>Victoria Village\\n</td>\n    </tr>\n    <tr>\n      <th>4</th>\n      <td>M5A</td>\n      <td>Downtown Toronto</td>\n      <td>Harbourfront\\n</td>\n    </tr>\n  </tbody>\n</table>\n</div>"
                    },
                    "metadata": {}
                }
            ]
        },
        {
            "metadata": {},
            "cell_type": "markdown",
            "source": "**Rearranging and renaming the columns**"
        },
        {
            "metadata": {},
            "cell_type": "code",
            "source": "df.columns = ['Borough', 'Neighbourhood','Postcode']\n\ncols = df.columns.tolist()\ncols\n\ncols = cols[-1:] + cols[:-1]\n\ndf = df[cols]\n\ndf.head()",
            "execution_count": 14,
            "outputs": [
                {
                    "output_type": "execute_result",
                    "execution_count": 14,
                    "data": {
                        "text/plain": "  Postcode           Borough      Neighbourhood\n0      M1A      Not assigned      Not assigned \n1      M2A      Not assigned      Not assigned \n2      M3A        North York         Parkwoods \n3      M4A        North York  Victoria Village \n4      M5A  Downtown Toronto      Harbourfront ",
                        "text/html": "<div>\n<style scoped>\n    .dataframe tbody tr th:only-of-type {\n        vertical-align: middle;\n    }\n\n    .dataframe tbody tr th {\n        vertical-align: top;\n    }\n\n    .dataframe thead th {\n        text-align: right;\n    }\n</style>\n<table border=\"1\" class=\"dataframe\">\n  <thead>\n    <tr style=\"text-align: right;\">\n      <th></th>\n      <th>Postcode</th>\n      <th>Borough</th>\n      <th>Neighbourhood</th>\n    </tr>\n  </thead>\n  <tbody>\n    <tr>\n      <th>0</th>\n      <td>M1A</td>\n      <td>Not assigned</td>\n      <td>Not assigned</td>\n    </tr>\n    <tr>\n      <th>1</th>\n      <td>M2A</td>\n      <td>Not assigned</td>\n      <td>Not assigned</td>\n    </tr>\n    <tr>\n      <th>2</th>\n      <td>M3A</td>\n      <td>North York</td>\n      <td>Parkwoods</td>\n    </tr>\n    <tr>\n      <th>3</th>\n      <td>M4A</td>\n      <td>North York</td>\n      <td>Victoria Village</td>\n    </tr>\n    <tr>\n      <th>4</th>\n      <td>M5A</td>\n      <td>Downtown Toronto</td>\n      <td>Harbourfront</td>\n    </tr>\n  </tbody>\n</table>\n</div>"
                    },
                    "metadata": {}
                }
            ]
        },
        {
            "metadata": {},
            "cell_type": "markdown",
            "source": "**Cleaning the messy string in the Borough column**"
        },
        {
            "metadata": {},
            "cell_type": "code",
            "source": "df = df.replace('\\n',' ', regex=True)\ndf.head()",
            "execution_count": 15,
            "outputs": [
                {
                    "output_type": "execute_result",
                    "execution_count": 15,
                    "data": {
                        "text/plain": "  Postcode           Borough      Neighbourhood\n0      M1A      Not assigned      Not assigned \n1      M2A      Not assigned      Not assigned \n2      M3A        North York         Parkwoods \n3      M4A        North York  Victoria Village \n4      M5A  Downtown Toronto      Harbourfront ",
                        "text/html": "<div>\n<style scoped>\n    .dataframe tbody tr th:only-of-type {\n        vertical-align: middle;\n    }\n\n    .dataframe tbody tr th {\n        vertical-align: top;\n    }\n\n    .dataframe thead th {\n        text-align: right;\n    }\n</style>\n<table border=\"1\" class=\"dataframe\">\n  <thead>\n    <tr style=\"text-align: right;\">\n      <th></th>\n      <th>Postcode</th>\n      <th>Borough</th>\n      <th>Neighbourhood</th>\n    </tr>\n  </thead>\n  <tbody>\n    <tr>\n      <th>0</th>\n      <td>M1A</td>\n      <td>Not assigned</td>\n      <td>Not assigned</td>\n    </tr>\n    <tr>\n      <th>1</th>\n      <td>M2A</td>\n      <td>Not assigned</td>\n      <td>Not assigned</td>\n    </tr>\n    <tr>\n      <th>2</th>\n      <td>M3A</td>\n      <td>North York</td>\n      <td>Parkwoods</td>\n    </tr>\n    <tr>\n      <th>3</th>\n      <td>M4A</td>\n      <td>North York</td>\n      <td>Victoria Village</td>\n    </tr>\n    <tr>\n      <th>4</th>\n      <td>M5A</td>\n      <td>Downtown Toronto</td>\n      <td>Harbourfront</td>\n    </tr>\n  </tbody>\n</table>\n</div>"
                    },
                    "metadata": {}
                }
            ]
        },
        {
            "metadata": {},
            "cell_type": "markdown",
            "source": "**Dropping all cells with a borough that is Not assigned**"
        },
        {
            "metadata": {},
            "cell_type": "code",
            "source": "df.drop(df.index[df['Borough'] == 'Not assigned'], inplace = True)\n\n# Reset the index and dropping the previous index\ndf = df.reset_index(drop=True)\n\ndf.head(10)",
            "execution_count": 16,
            "outputs": [
                {
                    "output_type": "execute_result",
                    "execution_count": 16,
                    "data": {
                        "text/plain": "  Postcode           Borough      Neighbourhood\n0      M3A        North York         Parkwoods \n1      M4A        North York  Victoria Village \n2      M5A  Downtown Toronto      Harbourfront \n3      M6A        North York  Lawrence Heights \n4      M6A        North York    Lawrence Manor \n5      M7A      Queen's Park      Not assigned \n6      M9A  Downtown Toronto      Queen's Park \n7      M1B       Scarborough             Rouge \n8      M1B       Scarborough           Malvern \n9      M3B        North York   Don Mills North ",
                        "text/html": "<div>\n<style scoped>\n    .dataframe tbody tr th:only-of-type {\n        vertical-align: middle;\n    }\n\n    .dataframe tbody tr th {\n        vertical-align: top;\n    }\n\n    .dataframe thead th {\n        text-align: right;\n    }\n</style>\n<table border=\"1\" class=\"dataframe\">\n  <thead>\n    <tr style=\"text-align: right;\">\n      <th></th>\n      <th>Postcode</th>\n      <th>Borough</th>\n      <th>Neighbourhood</th>\n    </tr>\n  </thead>\n  <tbody>\n    <tr>\n      <th>0</th>\n      <td>M3A</td>\n      <td>North York</td>\n      <td>Parkwoods</td>\n    </tr>\n    <tr>\n      <th>1</th>\n      <td>M4A</td>\n      <td>North York</td>\n      <td>Victoria Village</td>\n    </tr>\n    <tr>\n      <th>2</th>\n      <td>M5A</td>\n      <td>Downtown Toronto</td>\n      <td>Harbourfront</td>\n    </tr>\n    <tr>\n      <th>3</th>\n      <td>M6A</td>\n      <td>North York</td>\n      <td>Lawrence Heights</td>\n    </tr>\n    <tr>\n      <th>4</th>\n      <td>M6A</td>\n      <td>North York</td>\n      <td>Lawrence Manor</td>\n    </tr>\n    <tr>\n      <th>5</th>\n      <td>M7A</td>\n      <td>Queen's Park</td>\n      <td>Not assigned</td>\n    </tr>\n    <tr>\n      <th>6</th>\n      <td>M9A</td>\n      <td>Downtown Toronto</td>\n      <td>Queen's Park</td>\n    </tr>\n    <tr>\n      <th>7</th>\n      <td>M1B</td>\n      <td>Scarborough</td>\n      <td>Rouge</td>\n    </tr>\n    <tr>\n      <th>8</th>\n      <td>M1B</td>\n      <td>Scarborough</td>\n      <td>Malvern</td>\n    </tr>\n    <tr>\n      <th>9</th>\n      <td>M3B</td>\n      <td>North York</td>\n      <td>Don Mills North</td>\n    </tr>\n  </tbody>\n</table>\n</div>"
                    },
                    "metadata": {}
                }
            ]
        },
        {
            "metadata": {},
            "cell_type": "markdown",
            "source": "**Combining Neighbourhoods based on similar Postcode and Borough**"
        },
        {
            "metadata": {},
            "cell_type": "code",
            "source": "df = df.groupby(['Postcode', 'Borough'])['Neighbourhood'].apply(','.join).reset_index()\ndf.columns = ['Postcode','Borough','Neighbourhood']\ndf.head(10)",
            "execution_count": 17,
            "outputs": [
                {
                    "output_type": "execute_result",
                    "execution_count": 17,
                    "data": {
                        "text/plain": "  Postcode      Borough                                     Neighbourhood\n0      M1B  Scarborough                                   Rouge ,Malvern \n1      M1C  Scarborough           Highland Creek ,Rouge Hill ,Port Union \n2      M1E  Scarborough                Guildwood ,Morningside ,West Hill \n3      M1G  Scarborough                                           Woburn \n4      M1H  Scarborough                                        Cedarbrae \n5      M1J  Scarborough                              Scarborough Village \n6      M1K  Scarborough      East Birchmount Park ,Ionview ,Kennedy Park \n7      M1L  Scarborough                  Clairlea ,Golden Mile ,Oakridge \n8      M1M  Scarborough  Cliffcrest ,Cliffside ,Scarborough Village West \n9      M1N  Scarborough                      Birch Cliff ,Cliffside West ",
                        "text/html": "<div>\n<style scoped>\n    .dataframe tbody tr th:only-of-type {\n        vertical-align: middle;\n    }\n\n    .dataframe tbody tr th {\n        vertical-align: top;\n    }\n\n    .dataframe thead th {\n        text-align: right;\n    }\n</style>\n<table border=\"1\" class=\"dataframe\">\n  <thead>\n    <tr style=\"text-align: right;\">\n      <th></th>\n      <th>Postcode</th>\n      <th>Borough</th>\n      <th>Neighbourhood</th>\n    </tr>\n  </thead>\n  <tbody>\n    <tr>\n      <th>0</th>\n      <td>M1B</td>\n      <td>Scarborough</td>\n      <td>Rouge ,Malvern</td>\n    </tr>\n    <tr>\n      <th>1</th>\n      <td>M1C</td>\n      <td>Scarborough</td>\n      <td>Highland Creek ,Rouge Hill ,Port Union</td>\n    </tr>\n    <tr>\n      <th>2</th>\n      <td>M1E</td>\n      <td>Scarborough</td>\n      <td>Guildwood ,Morningside ,West Hill</td>\n    </tr>\n    <tr>\n      <th>3</th>\n      <td>M1G</td>\n      <td>Scarborough</td>\n      <td>Woburn</td>\n    </tr>\n    <tr>\n      <th>4</th>\n      <td>M1H</td>\n      <td>Scarborough</td>\n      <td>Cedarbrae</td>\n    </tr>\n    <tr>\n      <th>5</th>\n      <td>M1J</td>\n      <td>Scarborough</td>\n      <td>Scarborough Village</td>\n    </tr>\n    <tr>\n      <th>6</th>\n      <td>M1K</td>\n      <td>Scarborough</td>\n      <td>East Birchmount Park ,Ionview ,Kennedy Park</td>\n    </tr>\n    <tr>\n      <th>7</th>\n      <td>M1L</td>\n      <td>Scarborough</td>\n      <td>Clairlea ,Golden Mile ,Oakridge</td>\n    </tr>\n    <tr>\n      <th>8</th>\n      <td>M1M</td>\n      <td>Scarborough</td>\n      <td>Cliffcrest ,Cliffside ,Scarborough Village West</td>\n    </tr>\n    <tr>\n      <th>9</th>\n      <td>M1N</td>\n      <td>Scarborough</td>\n      <td>Birch Cliff ,Cliffside West</td>\n    </tr>\n  </tbody>\n</table>\n</div>"
                    },
                    "metadata": {}
                }
            ]
        },
        {
            "metadata": {},
            "cell_type": "code",
            "source": "#Removing any space in the start of the string\ndf['Neighbourhood'] = df['Neighbourhood'].str.strip()",
            "execution_count": 18,
            "outputs": []
        },
        {
            "metadata": {},
            "cell_type": "code",
            "source": "#Assigning Borough values to the Neighbourhood where vlaue is \"Not assigned\"\ndf.loc[df['Neighbourhood'] == 'Not assigned', 'Neighbourhood'] = df['Borough']",
            "execution_count": 19,
            "outputs": []
        },
        {
            "metadata": {},
            "cell_type": "code",
            "source": "# Check if the Neighbourhood for Queen's Park changed \ndf[df['Borough'] == 'Queen\\'s Park']",
            "execution_count": 20,
            "outputs": [
                {
                    "output_type": "execute_result",
                    "execution_count": 20,
                    "data": {
                        "text/plain": "   Postcode       Borough Neighbourhood\n85      M7A  Queen's Park  Queen's Park",
                        "text/html": "<div>\n<style scoped>\n    .dataframe tbody tr th:only-of-type {\n        vertical-align: middle;\n    }\n\n    .dataframe tbody tr th {\n        vertical-align: top;\n    }\n\n    .dataframe thead th {\n        text-align: right;\n    }\n</style>\n<table border=\"1\" class=\"dataframe\">\n  <thead>\n    <tr style=\"text-align: right;\">\n      <th></th>\n      <th>Postcode</th>\n      <th>Borough</th>\n      <th>Neighbourhood</th>\n    </tr>\n  </thead>\n  <tbody>\n    <tr>\n      <th>85</th>\n      <td>M7A</td>\n      <td>Queen's Park</td>\n      <td>Queen's Park</td>\n    </tr>\n  </tbody>\n</table>\n</div>"
                    },
                    "metadata": {}
                }
            ]
        },
        {
            "metadata": {},
            "cell_type": "code",
            "source": "# Check the shape of the data frame\ndf.shape",
            "execution_count": 21,
            "outputs": [
                {
                    "output_type": "execute_result",
                    "execution_count": 21,
                    "data": {
                        "text/plain": "(103, 3)"
                    },
                    "metadata": {}
                }
            ]
        },
        {
            "metadata": {},
            "cell_type": "code",
            "source": "#Save this file to a csv\ndf.to_csv(r'df_can.csv')",
            "execution_count": 22,
            "outputs": []
        },
        {
            "metadata": {},
            "cell_type": "code",
            "source": "#Extracting the Latitude and Longitude of Canada Ontario\n\"\"\"import requests # library to handle requests\nimport pandas as pd # library for data analsysis\nimport numpy as np # library to handle data in a vectorized manner\nimport random # library for random number generation\n\n!conda install -c conda-forge geopy --yes \nfrom geopy.geocoders import Nominatim # module to convert an address into latitude and longitude values\n\n# libraries for displaying images\nfrom IPython.display import Image \nfrom IPython.core.display import HTML \n    \n# tranforming json file into a pandas dataframe library\nfrom pandas.io.json import json_normalize\n\n!conda install -c conda-forge folium=0.5.0 --yes\nimport folium # plotting library\n\nprint('Folium installed')\nprint('Libraries imported.')\"\"\"",
            "execution_count": 23,
            "outputs": [
                {
                    "output_type": "execute_result",
                    "execution_count": 23,
                    "data": {
                        "text/plain": "\"import requests # library to handle requests\\nimport pandas as pd # library for data analsysis\\nimport numpy as np # library to handle data in a vectorized manner\\nimport random # library for random number generation\\n\\n!conda install -c conda-forge geopy --yes \\nfrom geopy.geocoders import Nominatim # module to convert an address into latitude and longitude values\\n\\n# libraries for displaying images\\nfrom IPython.display import Image \\nfrom IPython.core.display import HTML \\n    \\n# tranforming json file into a pandas dataframe library\\nfrom pandas.io.json import json_normalize\\n\\n!conda install -c conda-forge folium=0.5.0 --yes\\nimport folium # plotting library\\n\\nprint('Folium installed')\\nprint('Libraries imported.')\""
                    },
                    "metadata": {}
                }
            ]
        },
        {
            "metadata": {},
            "cell_type": "code",
            "source": "\"\"\"import geocoder # import geocoder\n\n# initialize your variable to None\nlat_lng_coords = None\n\n# loop until you get the coordinates\nwhile(lat_lng_coords is None):\n  g = geocoder.google('{}, Toronto, Ontario'.format(postal_code))\n  lat_lng_coords = g.latlng\n\nlatitude = lat_lng_coords[0]\nlongitude = lat_lng_coords[1]\"\"\"",
            "execution_count": 24,
            "outputs": [
                {
                    "output_type": "execute_result",
                    "execution_count": 24,
                    "data": {
                        "text/plain": "\"import geocoder # import geocoder\\n\\n# initialize your variable to None\\nlat_lng_coords = None\\n\\n# loop until you get the coordinates\\nwhile(lat_lng_coords is None):\\n  g = geocoder.google('{}, Toronto, Ontario'.format(postal_code))\\n  lat_lng_coords = g.latlng\\n\\nlatitude = lat_lng_coords[0]\\nlongitude = lat_lng_coords[1]\""
                    },
                    "metadata": {}
                }
            ]
        },
        {
            "metadata": {},
            "cell_type": "markdown",
            "source": "### Couldn't figure out the error, So I used the csv given in the link"
        },
        {
            "metadata": {},
            "cell_type": "code",
            "source": "import pandas as pd # library for data analsysis\nimport numpy as np # library to handle data in a vectorized manner\n\nlink = \"http://cocl.us/Geospatial_data\"\ndf1 = pd.read_csv(link)\n\ndf1.head()",
            "execution_count": 25,
            "outputs": [
                {
                    "output_type": "execute_result",
                    "execution_count": 25,
                    "data": {
                        "text/plain": "  Postal Code   Latitude  Longitude\n0         M1B  43.806686 -79.194353\n1         M1C  43.784535 -79.160497\n2         M1E  43.763573 -79.188711\n3         M1G  43.770992 -79.216917\n4         M1H  43.773136 -79.239476",
                        "text/html": "<div>\n<style scoped>\n    .dataframe tbody tr th:only-of-type {\n        vertical-align: middle;\n    }\n\n    .dataframe tbody tr th {\n        vertical-align: top;\n    }\n\n    .dataframe thead th {\n        text-align: right;\n    }\n</style>\n<table border=\"1\" class=\"dataframe\">\n  <thead>\n    <tr style=\"text-align: right;\">\n      <th></th>\n      <th>Postal Code</th>\n      <th>Latitude</th>\n      <th>Longitude</th>\n    </tr>\n  </thead>\n  <tbody>\n    <tr>\n      <th>0</th>\n      <td>M1B</td>\n      <td>43.806686</td>\n      <td>-79.194353</td>\n    </tr>\n    <tr>\n      <th>1</th>\n      <td>M1C</td>\n      <td>43.784535</td>\n      <td>-79.160497</td>\n    </tr>\n    <tr>\n      <th>2</th>\n      <td>M1E</td>\n      <td>43.763573</td>\n      <td>-79.188711</td>\n    </tr>\n    <tr>\n      <th>3</th>\n      <td>M1G</td>\n      <td>43.770992</td>\n      <td>-79.216917</td>\n    </tr>\n    <tr>\n      <th>4</th>\n      <td>M1H</td>\n      <td>43.773136</td>\n      <td>-79.239476</td>\n    </tr>\n  </tbody>\n</table>\n</div>"
                    },
                    "metadata": {}
                }
            ]
        },
        {
            "metadata": {},
            "cell_type": "code",
            "source": "df1.shape",
            "execution_count": 26,
            "outputs": [
                {
                    "output_type": "execute_result",
                    "execution_count": 26,
                    "data": {
                        "text/plain": "(103, 3)"
                    },
                    "metadata": {}
                }
            ]
        },
        {
            "metadata": {},
            "cell_type": "markdown",
            "source": "Both the data frames have 103 rows and 3 columns\n\n**Changing the column name Postal code to Postcode to merge the two data frames together**"
        },
        {
            "metadata": {},
            "cell_type": "code",
            "source": "df1.columns = ['Postcode','Latitude','Longitude']\n\ncols = df1.columns.tolist()\ncols",
            "execution_count": 27,
            "outputs": [
                {
                    "output_type": "execute_result",
                    "execution_count": 27,
                    "data": {
                        "text/plain": "['Postcode', 'Latitude', 'Longitude']"
                    },
                    "metadata": {}
                }
            ]
        },
        {
            "metadata": {},
            "cell_type": "code",
            "source": "#Read in the CSV file saved in the previous assignment\ndf = pd.read_csv(r'df_can.csv')\ndf.head()",
            "execution_count": 28,
            "outputs": [
                {
                    "output_type": "execute_result",
                    "execution_count": 28,
                    "data": {
                        "text/plain": "   Unnamed: 0 Postcode      Borough                           Neighbourhood\n0           0      M1B  Scarborough                          Rouge ,Malvern\n1           1      M1C  Scarborough  Highland Creek ,Rouge Hill ,Port Union\n2           2      M1E  Scarborough       Guildwood ,Morningside ,West Hill\n3           3      M1G  Scarborough                                  Woburn\n4           4      M1H  Scarborough                               Cedarbrae",
                        "text/html": "<div>\n<style scoped>\n    .dataframe tbody tr th:only-of-type {\n        vertical-align: middle;\n    }\n\n    .dataframe tbody tr th {\n        vertical-align: top;\n    }\n\n    .dataframe thead th {\n        text-align: right;\n    }\n</style>\n<table border=\"1\" class=\"dataframe\">\n  <thead>\n    <tr style=\"text-align: right;\">\n      <th></th>\n      <th>Unnamed: 0</th>\n      <th>Postcode</th>\n      <th>Borough</th>\n      <th>Neighbourhood</th>\n    </tr>\n  </thead>\n  <tbody>\n    <tr>\n      <th>0</th>\n      <td>0</td>\n      <td>M1B</td>\n      <td>Scarborough</td>\n      <td>Rouge ,Malvern</td>\n    </tr>\n    <tr>\n      <th>1</th>\n      <td>1</td>\n      <td>M1C</td>\n      <td>Scarborough</td>\n      <td>Highland Creek ,Rouge Hill ,Port Union</td>\n    </tr>\n    <tr>\n      <th>2</th>\n      <td>2</td>\n      <td>M1E</td>\n      <td>Scarborough</td>\n      <td>Guildwood ,Morningside ,West Hill</td>\n    </tr>\n    <tr>\n      <th>3</th>\n      <td>3</td>\n      <td>M1G</td>\n      <td>Scarborough</td>\n      <td>Woburn</td>\n    </tr>\n    <tr>\n      <th>4</th>\n      <td>4</td>\n      <td>M1H</td>\n      <td>Scarborough</td>\n      <td>Cedarbrae</td>\n    </tr>\n  </tbody>\n</table>\n</div>"
                    },
                    "metadata": {}
                }
            ]
        },
        {
            "metadata": {},
            "cell_type": "markdown",
            "source": "**Merging the two data frames together based on their Postcode**"
        },
        {
            "metadata": {},
            "cell_type": "code",
            "source": "df_new = pd.merge(df, df1, on='Postcode')\ndf_new.head()",
            "execution_count": 29,
            "outputs": [
                {
                    "output_type": "execute_result",
                    "execution_count": 29,
                    "data": {
                        "text/plain": "   Unnamed: 0 Postcode      Borough                           Neighbourhood  \\\n0           0      M1B  Scarborough                          Rouge ,Malvern   \n1           1      M1C  Scarborough  Highland Creek ,Rouge Hill ,Port Union   \n2           2      M1E  Scarborough       Guildwood ,Morningside ,West Hill   \n3           3      M1G  Scarborough                                  Woburn   \n4           4      M1H  Scarborough                               Cedarbrae   \n\n    Latitude  Longitude  \n0  43.806686 -79.194353  \n1  43.784535 -79.160497  \n2  43.763573 -79.188711  \n3  43.770992 -79.216917  \n4  43.773136 -79.239476  ",
                        "text/html": "<div>\n<style scoped>\n    .dataframe tbody tr th:only-of-type {\n        vertical-align: middle;\n    }\n\n    .dataframe tbody tr th {\n        vertical-align: top;\n    }\n\n    .dataframe thead th {\n        text-align: right;\n    }\n</style>\n<table border=\"1\" class=\"dataframe\">\n  <thead>\n    <tr style=\"text-align: right;\">\n      <th></th>\n      <th>Unnamed: 0</th>\n      <th>Postcode</th>\n      <th>Borough</th>\n      <th>Neighbourhood</th>\n      <th>Latitude</th>\n      <th>Longitude</th>\n    </tr>\n  </thead>\n  <tbody>\n    <tr>\n      <th>0</th>\n      <td>0</td>\n      <td>M1B</td>\n      <td>Scarborough</td>\n      <td>Rouge ,Malvern</td>\n      <td>43.806686</td>\n      <td>-79.194353</td>\n    </tr>\n    <tr>\n      <th>1</th>\n      <td>1</td>\n      <td>M1C</td>\n      <td>Scarborough</td>\n      <td>Highland Creek ,Rouge Hill ,Port Union</td>\n      <td>43.784535</td>\n      <td>-79.160497</td>\n    </tr>\n    <tr>\n      <th>2</th>\n      <td>2</td>\n      <td>M1E</td>\n      <td>Scarborough</td>\n      <td>Guildwood ,Morningside ,West Hill</td>\n      <td>43.763573</td>\n      <td>-79.188711</td>\n    </tr>\n    <tr>\n      <th>3</th>\n      <td>3</td>\n      <td>M1G</td>\n      <td>Scarborough</td>\n      <td>Woburn</td>\n      <td>43.770992</td>\n      <td>-79.216917</td>\n    </tr>\n    <tr>\n      <th>4</th>\n      <td>4</td>\n      <td>M1H</td>\n      <td>Scarborough</td>\n      <td>Cedarbrae</td>\n      <td>43.773136</td>\n      <td>-79.239476</td>\n    </tr>\n  </tbody>\n</table>\n</div>"
                    },
                    "metadata": {}
                }
            ]
        },
        {
            "metadata": {},
            "cell_type": "code",
            "source": "df_new.to_csv(r'df_final.csv')",
            "execution_count": 30,
            "outputs": []
        },
        {
            "metadata": {},
            "cell_type": "markdown",
            "source": "# Problem 3: Explore and cluster the neighborhoods in Toronto"
        },
        {
            "metadata": {},
            "cell_type": "code",
            "source": "import numpy as np # library to handle data in a vectorized manner\n\nimport pandas as pd # library for data analsysis\npd.set_option('display.max_columns', None)\npd.set_option('display.max_rows', None)\n\nimport json # library to handle JSON files\n\n#!conda install -c conda-forge geopy --yes # uncomment this line if you haven't completed the Foursquare API lab\nfrom geopy.geocoders import Nominatim # convert an address into latitude and longitude values\n\nimport requests # library to handle requests\nfrom pandas.io.json import json_normalize # tranform JSON file into a pandas dataframe\n\n# Matplotlib and associated plotting modules\nimport matplotlib.cm as cm\nimport matplotlib.colors as colors\n\n# import k-means from clustering stage\nfrom sklearn.cluster import KMeans\n\n!conda install -c conda-forge folium=0.5.0 --yes # uncomment this line if you haven't completed the Foursquare API lab\nimport folium # map rendering library\n\nprint('Libraries imported.')",
            "execution_count": 31,
            "outputs": [
                {
                    "output_type": "stream",
                    "text": "Solving environment: done\n\n# All requested packages already installed.\n\nLibraries imported.\n",
                    "name": "stdout"
                }
            ]
        },
        {
            "metadata": {},
            "cell_type": "markdown",
            "source": "**Note<br>\nI will focus on a subset of all the Borough that contain the word \"Toronto\".<br>\nThere are 38 Borough with word Toronto.**"
        },
        {
            "metadata": {},
            "cell_type": "code",
            "source": "toronto_data= df_new[df_new['Borough'].str.contains('Toronto', na = False)].reset_index(drop=True)\ntoronto_data.head()",
            "execution_count": 32,
            "outputs": [
                {
                    "output_type": "execute_result",
                    "execution_count": 32,
                    "data": {
                        "text/plain": "   Unnamed: 0 Postcode          Borough                   Neighbourhood  \\\n0          37      M4E     East Toronto                     The Beaches   \n1          41      M4K     East Toronto    The Danforth West ,Riverdale   \n2          42      M4L     East Toronto  The Beaches West ,India Bazaar   \n3          43      M4M     East Toronto                 Studio District   \n4          44      M4N  Central Toronto                   Lawrence Park   \n\n    Latitude  Longitude  \n0  43.676357 -79.293031  \n1  43.679557 -79.352188  \n2  43.668999 -79.315572  \n3  43.659526 -79.340923  \n4  43.728020 -79.388790  ",
                        "text/html": "<div>\n<style scoped>\n    .dataframe tbody tr th:only-of-type {\n        vertical-align: middle;\n    }\n\n    .dataframe tbody tr th {\n        vertical-align: top;\n    }\n\n    .dataframe thead th {\n        text-align: right;\n    }\n</style>\n<table border=\"1\" class=\"dataframe\">\n  <thead>\n    <tr style=\"text-align: right;\">\n      <th></th>\n      <th>Unnamed: 0</th>\n      <th>Postcode</th>\n      <th>Borough</th>\n      <th>Neighbourhood</th>\n      <th>Latitude</th>\n      <th>Longitude</th>\n    </tr>\n  </thead>\n  <tbody>\n    <tr>\n      <th>0</th>\n      <td>37</td>\n      <td>M4E</td>\n      <td>East Toronto</td>\n      <td>The Beaches</td>\n      <td>43.676357</td>\n      <td>-79.293031</td>\n    </tr>\n    <tr>\n      <th>1</th>\n      <td>41</td>\n      <td>M4K</td>\n      <td>East Toronto</td>\n      <td>The Danforth West ,Riverdale</td>\n      <td>43.679557</td>\n      <td>-79.352188</td>\n    </tr>\n    <tr>\n      <th>2</th>\n      <td>42</td>\n      <td>M4L</td>\n      <td>East Toronto</td>\n      <td>The Beaches West ,India Bazaar</td>\n      <td>43.668999</td>\n      <td>-79.315572</td>\n    </tr>\n    <tr>\n      <th>3</th>\n      <td>43</td>\n      <td>M4M</td>\n      <td>East Toronto</td>\n      <td>Studio District</td>\n      <td>43.659526</td>\n      <td>-79.340923</td>\n    </tr>\n    <tr>\n      <th>4</th>\n      <td>44</td>\n      <td>M4N</td>\n      <td>Central Toronto</td>\n      <td>Lawrence Park</td>\n      <td>43.728020</td>\n      <td>-79.388790</td>\n    </tr>\n  </tbody>\n</table>\n</div>"
                    },
                    "metadata": {}
                }
            ]
        },
        {
            "metadata": {},
            "cell_type": "code",
            "source": "toronto_data.shape",
            "execution_count": 82,
            "outputs": [
                {
                    "output_type": "execute_result",
                    "execution_count": 82,
                    "data": {
                        "text/plain": "(39, 6)"
                    },
                    "metadata": {}
                }
            ]
        },
        {
            "metadata": {},
            "cell_type": "markdown",
            "source": "## From google : the latitud and longitud for Toronto, as follows: 43.6532\u00b0 N, 79.3832\u00b0 W"
        },
        {
            "metadata": {},
            "cell_type": "code",
            "source": "latitude = 43.6532\nlongitude= -79.3832",
            "execution_count": 83,
            "outputs": []
        },
        {
            "metadata": {},
            "cell_type": "markdown",
            "source": "## Let's create a map of Toronto with Boroughs that cointain the word Toronto"
        },
        {
            "metadata": {},
            "cell_type": "code",
            "source": "# create map of TORONTO using latitude and longitude values above:\nmap_toronto = folium.Map(location=[latitude, longitude], zoom_start=11)\n\n# add markers to map\nfor lat, lng, label in zip(toronto_data['Latitude'], toronto_data['Longitude'], toronto_data['Neighbourhood']):\n    label = folium.Popup(label, parse_html=True)\n    folium.CircleMarker(\n        [lat, lng],\n        radius=5,\n        popup=label,\n        color='blue',\n        fill=True,\n        fill_color='#3186cc',\n        fill_opacity=0.7,\n        parse_html=False).add_to(map_toronto)  \n    \nmap_toronto",
            "execution_count": 84,
            "outputs": [
                {
                    "output_type": "execute_result",
                    "execution_count": 84,
                    "data": {
                        "text/plain": "<folium.folium.Map at 0x7f5a201a9048>",
                        "text/html": "<div style=\"width:100%;\"><div style=\"position:relative;width:100%;height:0;padding-bottom:60%;\"><iframe src=\"data:text/html;charset=utf-8;base64,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\" style=\"position:absolute;width:100%;height:100%;left:0;top:0;border:none !important;\" allowfullscreen webkitallowfullscreen mozallowfullscreen></iframe></div></div>"
                    },
                    "metadata": {}
                }
            ]
        }
    ],
    "metadata": {
        "kernelspec": {
            "name": "python3",
            "display_name": "Python 3.6",
            "language": "python"
        },
        "language_info": {
            "name": "python",
            "version": "3.6.8",
            "mimetype": "text/x-python",
            "codemirror_mode": {
                "name": "ipython",
                "version": 3
            },
            "pygments_lexer": "ipython3",
            "nbconvert_exporter": "python",
            "file_extension": ".py"
        }
    },
    "nbformat": 4,
    "nbformat_minor": 1
}