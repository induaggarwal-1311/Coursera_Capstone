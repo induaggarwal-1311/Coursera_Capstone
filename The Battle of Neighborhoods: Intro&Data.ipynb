{
    "cells": [
        {
            "metadata": {},
            "cell_type": "markdown",
            "source": "# Introduction: Business Problem"
        },
        {
            "metadata": {},
            "cell_type": "markdown",
            "source": "**1.1 Background** <br>\nThe average American moves about eleven times in their lifetime. This brings us to the\nquestion: **Do people move until they find a place to settle down where they truly feel happy,\nor do our wants and needs change over time, prompting us to eventually leave a town we\nonce called home for a new area that will bring us satisfaction? Or, do we too often move to\na new area without knowing exactly what we\u2019re getting into, forcing us to turn tail and run at\nthe first sign of discomfort?**\nTo minimize the chances of this happening, we should always do proper research when\nplanning our next move in life. Consider the following factors when picking a new place to\nlive so you don\u2019t end up wasting your valuable time and money making a move you\u2019ll end\nup regretting. Safety is a top concern when moving to a new area. If you don\u2019t feel safe in\nyour own home, you\u2019re not going to be able to enjoy living there.\n\n**1.2 Problem** <br>\nThe crime statistics dataset of London found on Kaggle has crimes in each Boroughs of\nLondon from 2008 to 2016. The year 2016 being the latest we will be considering the data\nof that year which is actually old information as of now. The crime rates in each borough\nmay have changed over time.\nThis project aims to select the safest borough in London based on the total crimes, explore\nthe neighborhoods of that borough to find the 10 most common venues in each\nneighborhood and finally cluster the neighborhoods using k-mean clustering.\n\n**1.3 Interest** <br>\nExpats who are considering to relocate to London will be interested to identify the safest\nborough in London and explore its neighborhoods and common venues around each\nneighborhood."
        },
        {
            "metadata": {},
            "cell_type": "markdown",
            "source": "# Data Acquisition and Cleaning"
        },
        {
            "metadata": {},
            "cell_type": "markdown",
            "source": "**2.1 Data Acquisition** <br>\nThe data acquired for this project is a combination of data from three sources. The first data\nsource of the project uses a London crime data that shows the crime per borough in\nLondon. The dataset contains the following columns:<br>\n\u25cf lsoa_code : code for Lower Super Output Area in Greater London. <br>\n\u25cf borough : Common name for London borough.<br>\n\u25cf major_category : High level categorization of crime <br>\n\u25cf minor_category : Low level categorization of crime within major category. <br>\n\u25cf value : monthly reported count of categorical crime in given borough <br>\n\u25cf year : Year of reported counts, 2008-2016 <br>\n\u25cf month : Month of reported counts, 1-12 <br> <br>\n\nData set URL: https://www.kaggle.com/jboysen/london-crime\n\n\nThe second source of data is scraped from a wikipedia page that contains the list of London\nboroughs . This page contains additional information about the boroughs, the following are\nthe columns:<br>\n\u25cf Borough : The names of the 33 London boroughs.<br>\n\u25cf Inner : Categorizing the borough as an Inner London borough or an Outer London\nBorough.<br>\n\u25cf Status : Categorizing the borough as Royal, City or other borough.<br>\n\u25cf Local authority : The local authority assigned to the borough.<br>\n\u25cf Political control : The political party that control the borough.<br>\n\u25cf Headquarters: Headquarters of the Boroughs.<br>\n\u25cf Area (sq mi) : Area of the borough in square miles.<br>\n\u25cf Population (2013 est)[1] : The population in the borough recorded during the year\n2013.<br>\n\u25cf Co-ordinates : The latitude and longitude of the boroughs.<br>\n\u25cf Nr. in map : The number assigned to each borough to represent visually on a map.<br><br>\nThe third data source is the list of Neighborhoods in the Royal Borough of Kingston upon\nThames as found on a wikipedia page. This dataset is created from scratch using the list of\nneighborhood available on the site, the following are columns:<br>\n\u25cf Neighborhood: Name of the neighborhood in the Borough.<br>\n\u25cf Borough: Name of the Borough. <br>\n\u25cf Latitude: Latitude of the Borough. <br>\n\u25cf Longitude: Longitude of the Borough.<br> <br>\n**2.2 Data Cleaning** <br>\nThe data preparation for each of the three sources of data is done separately. From the\nLondon crime data, the crimes during the most recent year (2016) are only selected. The\nmajor categories of crime are pivoted to get the total crimes per the boroughs for each\nmajor category.\n<br><br>\nThe second **data is scraped from a wikipedia page using the Beautiful Soup library** in\npython. Using this library we can extract the data in the tabular format as shown in the\nwebsite. After the web scraping, string manipulation is required to get the names of the\nboroughs in the correct form. This is important because we will be merging the\ntwo datasets together using the Borough names.<br>\n<br>\nThe two datasets are merged on the Borough names to form a new dataset that combines\nthe necessary information in one dataset. The purpose of this dataset is to\nvisualize the crime rates in each borough and identify the borough with the least crimes\nrecorded during the year 2016.\n<br><br>\nAfter visualizing the crime in each borough we can find the borough with the lowest crime\nrate and hence tag that borough as the safest borough. The third source of data is acquired\nfrom the list of neighborhoods in the safest borough on wikipedia. This dataset is created\nfrom scratch, the pandas data frame is created with the names of the neighborhoods and\nthe name of the borough with the latitude and longitude left blank.\n<br><br>\nThe coordinates of the neighborhoods is be obtained using **Google Maps API geocoding**\nto get the final dataset.\n<br><br>\nThe new dataset is used to generate the 10 most common venues for each neighborhood\nusing the Foursquare API, finally using **k means clustering algorithm** to cluster similar\nneighborhoods together."
        },
        {
            "metadata": {},
            "cell_type": "code",
            "source": "",
            "execution_count": null,
            "outputs": []
        }
    ],
    "metadata": {
        "kernelspec": {
            "name": "python3",
            "display_name": "Python 3.6",
            "language": "python"
        },
        "language_info": {
            "name": "python",
            "version": "3.6.8",
            "mimetype": "text/x-python",
            "codemirror_mode": {
                "name": "ipython",
                "version": 3
            },
            "pygments_lexer": "ipython3",
            "nbconvert_exporter": "python",
            "file_extension": ".py"
        }
    },
    "nbformat": 4,
    "nbformat_minor": 1
}